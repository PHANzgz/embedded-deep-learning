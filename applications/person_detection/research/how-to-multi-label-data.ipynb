{
 "cells": [
  {
   "cell_type": "markdown",
   "metadata": {},
   "source": [
    "## How to deal with multi label data"
   ]
  },
  {
   "cell_type": "markdown",
   "metadata": {},
   "source": [
    "This notebook served me to understand the necessary data transormations to get the data in a useful format for training and evaluating a neural network in tensorflow. In the `COCO_MLC` class, I'll try to use more tensorflow operations."
   ]
  },
  {
   "cell_type": "code",
   "execution_count": 1,
   "metadata": {},
   "outputs": [],
   "source": [
    "#Common imports\n",
    "import numpy as np\n",
    "import time, os\n",
    "import pathlib\n",
    "import random\n",
    "from collections import defaultdict\n",
    "\n",
    "#Reproducibility\n",
    "random.seed(23)"
   ]
  },
  {
   "cell_type": "code",
   "execution_count": 2,
   "metadata": {},
   "outputs": [],
   "source": [
    "ROOT_PATH = \".\"\n",
    "DATA_DIR = os.path.join(ROOT_PATH, \"data\")\n",
    "coco_year = 2017"
   ]
  },
  {
   "cell_type": "code",
   "execution_count": 3,
   "metadata": {},
   "outputs": [
    {
     "data": {
      "text/plain": [
       "WindowsPath('data')"
      ]
     },
     "execution_count": 3,
     "metadata": {},
     "output_type": "execute_result"
    }
   ],
   "source": [
    "data_dir = pathlib.Path(DATA_DIR)\n",
    "data_dir"
   ]
  },
  {
   "cell_type": "code",
   "execution_count": 10,
   "metadata": {},
   "outputs": [
    {
     "data": {
      "text/plain": [
       "array(['car', 'negative', 'person'], dtype='<U8')"
      ]
     },
     "execution_count": 10,
     "metadata": {},
     "output_type": "execute_result"
    }
   ],
   "source": [
    "class_names = np.array(sorted([item.name for item in data_dir.glob('train/*')]))\n",
    "class_names"
   ]
  },
  {
   "cell_type": "code",
   "execution_count": 11,
   "metadata": {},
   "outputs": [
    {
     "data": {
      "text/plain": [
       "[('000000003711.jpg', 0),\n",
       " ('000000005205.jpg', 0),\n",
       " ('000000009801.jpg', 0),\n",
       " ('000000016977.jpg', 0),\n",
       " ('000000020671.jpg', 0)]"
      ]
     },
     "execution_count": 11,
     "metadata": {},
     "output_type": "execute_result"
    }
   ],
   "source": [
    "def to_img_name(s):\n",
    "    return str(s).split(os.path.sep)[-1]\n",
    "\n",
    "split = \"train\"\n",
    "img_filen = []\n",
    "for i, class_n in enumerate(class_names):\n",
    "    pattern = \"{}/{}/*.jpg\".format(split, class_n)\n",
    "    img_filen += [(filen, i) for filen in map(to_img_name, data_dir.glob(pattern))]  \n",
    "\n",
    "img_filen[:5]"
   ]
  },
  {
   "cell_type": "code",
   "execution_count": 12,
   "metadata": {},
   "outputs": [],
   "source": [
    "from collections import defaultdict\n",
    "\n",
    "merged_dict = defaultdict(list)\n",
    "\n",
    "for filen, label in img_filen:\n",
    "    merged_dict[filen].append(label)"
   ]
  },
  {
   "cell_type": "code",
   "execution_count": 13,
   "metadata": {},
   "outputs": [
    {
     "data": {
      "text/plain": [
       "[('000000003711.jpg', [0]),\n",
       " ('000000005205.jpg', [0, 2]),\n",
       " ('000000009801.jpg', [0, 2]),\n",
       " ('000000016977.jpg', [0]),\n",
       " ('000000020671.jpg', [0, 2])]"
      ]
     },
     "execution_count": 13,
     "metadata": {},
     "output_type": "execute_result"
    }
   ],
   "source": [
    "list_ds_raw = list(merged_dict.items())\n",
    "list_ds_raw[:5]"
   ]
  },
  {
   "cell_type": "markdown",
   "metadata": {},
   "source": [
    "The following transformations can be done simultaneously, but this is just some testing..."
   ]
  },
  {
   "cell_type": "code",
   "execution_count": 14,
   "metadata": {},
   "outputs": [],
   "source": [
    "for ix, elem in enumerate(list_ds_raw):\n",
    "    filen, labels = elem\n",
    "    # Images with multiple labels have multiple possible filepaths(i.e. \n",
    "    # they exist in different categories) so we will take the first one,\n",
    "    # for example.\n",
    "    class_n = class_names[labels[0]]\n",
    "    full_path = data_dir / split / class_n / filen\n",
    "    list_ds_raw[ix] = (str(full_path), labels)\n"
   ]
  },
  {
   "cell_type": "code",
   "execution_count": 15,
   "metadata": {},
   "outputs": [
    {
     "data": {
      "text/plain": [
       "[('data\\\\train\\\\car\\\\000000003711.jpg', [0]),\n",
       " ('data\\\\train\\\\car\\\\000000005205.jpg', [0, 2]),\n",
       " ('data\\\\train\\\\car\\\\000000009801.jpg', [0, 2]),\n",
       " ('data\\\\train\\\\car\\\\000000016977.jpg', [0]),\n",
       " ('data\\\\train\\\\car\\\\000000020671.jpg', [0, 2])]"
      ]
     },
     "execution_count": 15,
     "metadata": {},
     "output_type": "execute_result"
    }
   ],
   "source": [
    "list_ds_raw[:5]"
   ]
  },
  {
   "cell_type": "code",
   "execution_count": 17,
   "metadata": {},
   "outputs": [],
   "source": [
    "for ix, elem in enumerate(list_ds_raw):\n",
    "    filep, labels = elem\n",
    "    label = np.zeros(len(class_names),)\n",
    "    label[labels]=1\n",
    "    \n",
    "    list_ds_raw[ix] = (filep, label)"
   ]
  },
  {
   "cell_type": "code",
   "execution_count": 18,
   "metadata": {},
   "outputs": [
    {
     "data": {
      "text/plain": [
       "[('data\\\\train\\\\car\\\\000000003711.jpg', array([1., 0., 0.])),\n",
       " ('data\\\\train\\\\car\\\\000000005205.jpg', array([1., 0., 1.])),\n",
       " ('data\\\\train\\\\car\\\\000000009801.jpg', array([1., 0., 1.])),\n",
       " ('data\\\\train\\\\car\\\\000000016977.jpg', array([1., 0., 0.])),\n",
       " ('data\\\\train\\\\car\\\\000000020671.jpg', array([1., 0., 1.]))]"
      ]
     },
     "execution_count": 18,
     "metadata": {},
     "output_type": "execute_result"
    }
   ],
   "source": [
    "list_ds_raw[:5]"
   ]
  },
  {
   "cell_type": "markdown",
   "metadata": {},
   "source": [
    " "
   ]
  }
 ],
 "metadata": {
  "kernelspec": {
   "display_name": "Python 3",
   "language": "python",
   "name": "python3"
  },
  "language_info": {
   "codemirror_mode": {
    "name": "ipython",
    "version": 3
   },
   "file_extension": ".py",
   "mimetype": "text/x-python",
   "name": "python",
   "nbconvert_exporter": "python",
   "pygments_lexer": "ipython3",
   "version": "3.7.7"
  }
 },
 "nbformat": 4,
 "nbformat_minor": 4
}
