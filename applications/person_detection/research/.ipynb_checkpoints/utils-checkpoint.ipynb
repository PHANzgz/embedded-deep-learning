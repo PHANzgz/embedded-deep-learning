{
 "cells": [
  {
   "cell_type": "markdown",
   "metadata": {},
   "source": [
    "# Introduction\n",
    "\n",
    "This notebook was a way for me to test some things and develop small tasks that are outside the scope of the main notebook."
   ]
  },
  {
   "cell_type": "markdown",
   "metadata": {},
   "source": [
    "## How to deal with multi label data"
   ]
  },
  {
   "cell_type": "markdown",
   "metadata": {},
   "source": [
    "This served me to understand the necessary data transormations to get the data in a useful format for training and evaluating a neural network in tensorflow. In the `COCO_MLC` class, I'll try to use more tensorflow operations."
   ]
  },
  {
   "cell_type": "code",
   "execution_count": 1,
   "metadata": {},
   "outputs": [],
   "source": [
    "#Common imports\n",
    "import numpy as np\n",
    "import time, os\n",
    "import pathlib\n",
    "import random\n",
    "from collections import defaultdict\n",
    "\n",
    "#Reproducibility\n",
    "random.seed(23)"
   ]
  },
  {
   "cell_type": "code",
   "execution_count": 2,
   "metadata": {},
   "outputs": [],
   "source": [
    "ROOT_PATH = \".\"\n",
    "DATA_DIR = os.path.join(ROOT_PATH, \"data\")\n",
    "coco_year = 2017"
   ]
  },
  {
   "cell_type": "code",
   "execution_count": 3,
   "metadata": {},
   "outputs": [
    {
     "data": {
      "text/plain": [
       "WindowsPath('data')"
      ]
     },
     "execution_count": 3,
     "metadata": {},
     "output_type": "execute_result"
    }
   ],
   "source": [
    "data_dir = pathlib.Path(DATA_DIR)\n",
    "data_dir"
   ]
  },
  {
   "cell_type": "code",
   "execution_count": 10,
   "metadata": {},
   "outputs": [
    {
     "data": {
      "text/plain": [
       "array(['car', 'negative', 'person'], dtype='<U8')"
      ]
     },
     "execution_count": 10,
     "metadata": {},
     "output_type": "execute_result"
    }
   ],
   "source": [
    "class_names = np.array(sorted([item.name for item in data_dir.glob('train/*')]))\n",
    "class_names"
   ]
  },
  {
   "cell_type": "code",
   "execution_count": 11,
   "metadata": {},
   "outputs": [
    {
     "data": {
      "text/plain": [
       "[('000000003711.jpg', 0),\n",
       " ('000000005205.jpg', 0),\n",
       " ('000000009801.jpg', 0),\n",
       " ('000000016977.jpg', 0),\n",
       " ('000000020671.jpg', 0)]"
      ]
     },
     "execution_count": 11,
     "metadata": {},
     "output_type": "execute_result"
    }
   ],
   "source": [
    "def to_img_name(s):\n",
    "    return str(s).split(os.path.sep)[-1]\n",
    "\n",
    "split = \"train\"\n",
    "img_filen = []\n",
    "for i, class_n in enumerate(class_names):\n",
    "    pattern = \"{}/{}/*.jpg\".format(split, class_n)\n",
    "    img_filen += [(filen, i) for filen in map(to_img_name, data_dir.glob(pattern))]  \n",
    "\n",
    "img_filen[:5]"
   ]
  },
  {
   "cell_type": "code",
   "execution_count": 12,
   "metadata": {},
   "outputs": [],
   "source": [
    "from collections import defaultdict\n",
    "\n",
    "merged_dict = defaultdict(list)\n",
    "\n",
    "for filen, label in img_filen:\n",
    "    merged_dict[filen].append(label)"
   ]
  },
  {
   "cell_type": "code",
   "execution_count": 13,
   "metadata": {},
   "outputs": [
    {
     "data": {
      "text/plain": [
       "[('000000003711.jpg', [0]),\n",
       " ('000000005205.jpg', [0, 2]),\n",
       " ('000000009801.jpg', [0, 2]),\n",
       " ('000000016977.jpg', [0]),\n",
       " ('000000020671.jpg', [0, 2])]"
      ]
     },
     "execution_count": 13,
     "metadata": {},
     "output_type": "execute_result"
    }
   ],
   "source": [
    "list_ds_raw = list(merged_dict.items())\n",
    "list_ds_raw[:5]"
   ]
  },
  {
   "cell_type": "markdown",
   "metadata": {},
   "source": [
    "The following transformations can be done simultaneously, but this is just some testing..."
   ]
  },
  {
   "cell_type": "code",
   "execution_count": 14,
   "metadata": {},
   "outputs": [],
   "source": [
    "for ix, elem in enumerate(list_ds_raw):\n",
    "    filen, labels = elem\n",
    "    # Images with multiple labels have multiple possible filepaths(i.e. \n",
    "    # they exist in different categories) so we will take the first one,\n",
    "    # for example.\n",
    "    class_n = class_names[labels[0]]\n",
    "    full_path = data_dir / split / class_n / filen\n",
    "    list_ds_raw[ix] = (str(full_path), labels)\n"
   ]
  },
  {
   "cell_type": "code",
   "execution_count": 15,
   "metadata": {},
   "outputs": [
    {
     "data": {
      "text/plain": [
       "[('data\\\\train\\\\car\\\\000000003711.jpg', [0]),\n",
       " ('data\\\\train\\\\car\\\\000000005205.jpg', [0, 2]),\n",
       " ('data\\\\train\\\\car\\\\000000009801.jpg', [0, 2]),\n",
       " ('data\\\\train\\\\car\\\\000000016977.jpg', [0]),\n",
       " ('data\\\\train\\\\car\\\\000000020671.jpg', [0, 2])]"
      ]
     },
     "execution_count": 15,
     "metadata": {},
     "output_type": "execute_result"
    }
   ],
   "source": [
    "list_ds_raw[:5]"
   ]
  },
  {
   "cell_type": "code",
   "execution_count": 17,
   "metadata": {},
   "outputs": [],
   "source": [
    "for ix, elem in enumerate(list_ds_raw):\n",
    "    filep, labels = elem\n",
    "    label = np.zeros(len(class_names),)\n",
    "    label[labels]=1\n",
    "    \n",
    "    list_ds_raw[ix] = (filep, label)"
   ]
  },
  {
   "cell_type": "code",
   "execution_count": 18,
   "metadata": {},
   "outputs": [
    {
     "data": {
      "text/plain": [
       "[('data\\\\train\\\\car\\\\000000003711.jpg', array([1., 0., 0.])),\n",
       " ('data\\\\train\\\\car\\\\000000005205.jpg', array([1., 0., 1.])),\n",
       " ('data\\\\train\\\\car\\\\000000009801.jpg', array([1., 0., 1.])),\n",
       " ('data\\\\train\\\\car\\\\000000016977.jpg', array([1., 0., 0.])),\n",
       " ('data\\\\train\\\\car\\\\000000020671.jpg', array([1., 0., 1.]))]"
      ]
     },
     "execution_count": 18,
     "metadata": {},
     "output_type": "execute_result"
    }
   ],
   "source": [
    "list_ds_raw[:5]"
   ]
  },
  {
   "cell_type": "markdown",
   "metadata": {},
   "source": [
    "# Parsing \"Awesome Computer Vision Models\"\n",
    "\n",
    "For model selection, I came across [this up-to-date repository](https://github.com/nerox8664/awesome-computer-vision-models) that contains a list of the best image models. For our case, I've exported the classification models to CSV and I'm just going to filter it to get a clean csv for the main notebook."
   ]
  },
  {
   "cell_type": "code",
   "execution_count": 74,
   "metadata": {},
   "outputs": [],
   "source": [
    "import pandas as pd \n",
    "import numpy as np"
   ]
  },
  {
   "cell_type": "code",
   "execution_count": 75,
   "metadata": {},
   "outputs": [
    {
     "data": {
      "text/html": [
       "<div>\n",
       "<style scoped>\n",
       "    .dataframe tbody tr th:only-of-type {\n",
       "        vertical-align: middle;\n",
       "    }\n",
       "\n",
       "    .dataframe tbody tr th {\n",
       "        vertical-align: top;\n",
       "    }\n",
       "\n",
       "    .dataframe thead th {\n",
       "        text-align: right;\n",
       "    }\n",
       "</style>\n",
       "<table border=\"1\" class=\"dataframe\">\n",
       "  <thead>\n",
       "    <tr style=\"text-align: right;\">\n",
       "      <th></th>\n",
       "      <th>Model</th>\n",
       "      <th>Number of parameters</th>\n",
       "      <th>FLOPS</th>\n",
       "      <th>Top-1 Error</th>\n",
       "      <th>Top-5 Error</th>\n",
       "      <th>Year</th>\n",
       "      <th>DEMO</th>\n",
       "    </tr>\n",
       "  </thead>\n",
       "  <tbody>\n",
       "    <tr>\n",
       "      <th>0</th>\n",
       "      <td>AlexNet ('One weird trick for parallelizing co...</td>\n",
       "      <td>62.3M</td>\n",
       "      <td>1,132.33M</td>\n",
       "      <td>40.96</td>\n",
       "      <td>18.24</td>\n",
       "      <td>2014</td>\n",
       "      <td>X</td>\n",
       "    </tr>\n",
       "    <tr>\n",
       "      <th>1</th>\n",
       "      <td>VGG-16 ('Very Deep Convolutional Networks for ...</td>\n",
       "      <td>138.3M</td>\n",
       "      <td>?</td>\n",
       "      <td>26.78</td>\n",
       "      <td>8.69</td>\n",
       "      <td>2014</td>\n",
       "      <td>X</td>\n",
       "    </tr>\n",
       "    <tr>\n",
       "      <th>2</th>\n",
       "      <td>ResNet-10 ('Deep Residual Learning for Image R...</td>\n",
       "      <td>5.5M</td>\n",
       "      <td>894.04M</td>\n",
       "      <td>34.69</td>\n",
       "      <td>14.36</td>\n",
       "      <td>2015</td>\n",
       "      <td>Try live</td>\n",
       "    </tr>\n",
       "    <tr>\n",
       "      <th>3</th>\n",
       "      <td>ResNet-18 ('Deep Residual Learning for Image R...</td>\n",
       "      <td>11.7M</td>\n",
       "      <td>1,820.41M</td>\n",
       "      <td>28.53</td>\n",
       "      <td>9.82</td>\n",
       "      <td>2015</td>\n",
       "      <td>Try live</td>\n",
       "    </tr>\n",
       "    <tr>\n",
       "      <th>4</th>\n",
       "      <td>ResNet-34 ('Deep Residual Learning for Image R...</td>\n",
       "      <td>21.8M</td>\n",
       "      <td>3,672.68M</td>\n",
       "      <td>24.84</td>\n",
       "      <td>7.8</td>\n",
       "      <td>2015</td>\n",
       "      <td>Try live</td>\n",
       "    </tr>\n",
       "  </tbody>\n",
       "</table>\n",
       "</div>"
      ],
      "text/plain": [
       "                                               Model Number of parameters  \\\n",
       "0  AlexNet ('One weird trick for parallelizing co...                62.3M   \n",
       "1  VGG-16 ('Very Deep Convolutional Networks for ...               138.3M   \n",
       "2  ResNet-10 ('Deep Residual Learning for Image R...                 5.5M   \n",
       "3  ResNet-18 ('Deep Residual Learning for Image R...                11.7M   \n",
       "4  ResNet-34 ('Deep Residual Learning for Image R...                21.8M   \n",
       "\n",
       "       FLOPS  Top-1 Error Top-5 Error  Year      DEMO  \n",
       "0  1,132.33M        40.96       18.24  2014         X  \n",
       "1          ?        26.78        8.69  2014         X  \n",
       "2    894.04M        34.69       14.36  2015  Try live  \n",
       "3  1,820.41M        28.53        9.82  2015  Try live  \n",
       "4  3,672.68M        24.84         7.8  2015  Try live  "
      ]
     },
     "execution_count": 75,
     "metadata": {},
     "output_type": "execute_result"
    }
   ],
   "source": [
    "data = pd.read_csv(\"img_classification_models.csv\")\n",
    "data.head()"
   ]
  },
  {
   "cell_type": "code",
   "execution_count": 76,
   "metadata": {},
   "outputs": [],
   "source": [
    "data.drop(\"DEMO\", axis=1, inplace=True)"
   ]
  },
  {
   "cell_type": "code",
   "execution_count": 77,
   "metadata": {},
   "outputs": [],
   "source": [
    "mask = data[\"FLOPS\"].str[-1] == \"M\" # we can safely ignore higher orders(constrained devices)\n",
    "data = data[mask]"
   ]
  },
  {
   "cell_type": "code",
   "execution_count": 78,
   "metadata": {},
   "outputs": [],
   "source": [
    "data[\"FLOPS\"] = data[\"FLOPS\"].str[:-1].str.replace(\",\", \"\").astype(float)"
   ]
  },
  {
   "cell_type": "code",
   "execution_count": 79,
   "metadata": {},
   "outputs": [
    {
     "data": {
      "text/html": [
       "<div>\n",
       "<style scoped>\n",
       "    .dataframe tbody tr th:only-of-type {\n",
       "        vertical-align: middle;\n",
       "    }\n",
       "\n",
       "    .dataframe tbody tr th {\n",
       "        vertical-align: top;\n",
       "    }\n",
       "\n",
       "    .dataframe thead th {\n",
       "        text-align: right;\n",
       "    }\n",
       "</style>\n",
       "<table border=\"1\" class=\"dataframe\">\n",
       "  <thead>\n",
       "    <tr style=\"text-align: right;\">\n",
       "      <th></th>\n",
       "      <th>Model</th>\n",
       "      <th>Number of parameters</th>\n",
       "      <th>FLOPS</th>\n",
       "      <th>Top-1 Error</th>\n",
       "      <th>Top-5 Error</th>\n",
       "      <th>Year</th>\n",
       "    </tr>\n",
       "  </thead>\n",
       "  <tbody>\n",
       "    <tr>\n",
       "      <th>0</th>\n",
       "      <td>AlexNet ('One weird trick for parallelizing co...</td>\n",
       "      <td>62.3M</td>\n",
       "      <td>1132.33</td>\n",
       "      <td>40.96</td>\n",
       "      <td>18.24</td>\n",
       "      <td>2014</td>\n",
       "    </tr>\n",
       "    <tr>\n",
       "      <th>2</th>\n",
       "      <td>ResNet-10 ('Deep Residual Learning for Image R...</td>\n",
       "      <td>5.5M</td>\n",
       "      <td>894.04</td>\n",
       "      <td>34.69</td>\n",
       "      <td>14.36</td>\n",
       "      <td>2015</td>\n",
       "    </tr>\n",
       "    <tr>\n",
       "      <th>3</th>\n",
       "      <td>ResNet-18 ('Deep Residual Learning for Image R...</td>\n",
       "      <td>11.7M</td>\n",
       "      <td>1820.41</td>\n",
       "      <td>28.53</td>\n",
       "      <td>9.82</td>\n",
       "      <td>2015</td>\n",
       "    </tr>\n",
       "    <tr>\n",
       "      <th>4</th>\n",
       "      <td>ResNet-34 ('Deep Residual Learning for Image R...</td>\n",
       "      <td>21.8M</td>\n",
       "      <td>3672.68</td>\n",
       "      <td>24.84</td>\n",
       "      <td>7.8</td>\n",
       "      <td>2015</td>\n",
       "    </tr>\n",
       "    <tr>\n",
       "      <th>5</th>\n",
       "      <td>ResNet-50 ('Deep Residual Learning for Image R...</td>\n",
       "      <td>25.5M</td>\n",
       "      <td>3877.95</td>\n",
       "      <td>22.28</td>\n",
       "      <td>6.33</td>\n",
       "      <td>2015</td>\n",
       "    </tr>\n",
       "  </tbody>\n",
       "</table>\n",
       "</div>"
      ],
      "text/plain": [
       "                                               Model Number of parameters  \\\n",
       "0  AlexNet ('One weird trick for parallelizing co...                62.3M   \n",
       "2  ResNet-10 ('Deep Residual Learning for Image R...                 5.5M   \n",
       "3  ResNet-18 ('Deep Residual Learning for Image R...                11.7M   \n",
       "4  ResNet-34 ('Deep Residual Learning for Image R...                21.8M   \n",
       "5  ResNet-50 ('Deep Residual Learning for Image R...                25.5M   \n",
       "\n",
       "     FLOPS  Top-1 Error Top-5 Error  Year  \n",
       "0  1132.33        40.96       18.24  2014  \n",
       "2   894.04        34.69       14.36  2015  \n",
       "3  1820.41        28.53        9.82  2015  \n",
       "4  3672.68        24.84         7.8  2015  \n",
       "5  3877.95        22.28        6.33  2015  "
      ]
     },
     "execution_count": 79,
     "metadata": {},
     "output_type": "execute_result"
    }
   ],
   "source": [
    "data.head()"
   ]
  },
  {
   "cell_type": "code",
   "execution_count": 80,
   "metadata": {},
   "outputs": [],
   "source": [
    "final_mask = data[\"FLOPS\"] < 1000 # millions of FLOPS"
   ]
  },
  {
   "cell_type": "code",
   "execution_count": 81,
   "metadata": {},
   "outputs": [],
   "source": [
    "data = data.rename(columns={\"FLOPS\":\"FLOPS (millions)\"})"
   ]
  },
  {
   "cell_type": "code",
   "execution_count": 82,
   "metadata": {},
   "outputs": [],
   "source": [
    "final_data = data[final_mask].sort_values(\"Top-1 Error\")"
   ]
  },
  {
   "cell_type": "code",
   "execution_count": 90,
   "metadata": {},
   "outputs": [],
   "source": [
    "final_data[\"Model\"] = final_data[\"Model\"].str.split(\"(\").str[0]"
   ]
  },
  {
   "cell_type": "code",
   "execution_count": 91,
   "metadata": {},
   "outputs": [
    {
     "data": {
      "text/html": [
       "<div>\n",
       "<style scoped>\n",
       "    .dataframe tbody tr th:only-of-type {\n",
       "        vertical-align: middle;\n",
       "    }\n",
       "\n",
       "    .dataframe tbody tr th {\n",
       "        vertical-align: top;\n",
       "    }\n",
       "\n",
       "    .dataframe thead th {\n",
       "        text-align: right;\n",
       "    }\n",
       "</style>\n",
       "<table border=\"1\" class=\"dataframe\">\n",
       "  <thead>\n",
       "    <tr style=\"text-align: right;\">\n",
       "      <th></th>\n",
       "      <th>Model</th>\n",
       "      <th>Number of parameters</th>\n",
       "      <th>FLOPS (millions)</th>\n",
       "      <th>Top-1 Error</th>\n",
       "      <th>Top-5 Error</th>\n",
       "      <th>Year</th>\n",
       "    </tr>\n",
       "  </thead>\n",
       "  <tbody>\n",
       "    <tr>\n",
       "      <th>78</th>\n",
       "      <td>DA-NAS-C</td>\n",
       "      <td>?</td>\n",
       "      <td>467.00</td>\n",
       "      <td>23.80</td>\n",
       "      <td>?</td>\n",
       "      <td>2020</td>\n",
       "    </tr>\n",
       "    <tr>\n",
       "      <th>60</th>\n",
       "      <td>EfficientNet-B0</td>\n",
       "      <td>5,288,548</td>\n",
       "      <td>414.31</td>\n",
       "      <td>24.77</td>\n",
       "      <td>7.52</td>\n",
       "      <td>2019</td>\n",
       "    </tr>\n",
       "    <tr>\n",
       "      <th>34</th>\n",
       "      <td>NASNet-A 4@1056</td>\n",
       "      <td>5,289,978</td>\n",
       "      <td>584.90</td>\n",
       "      <td>25.68</td>\n",
       "      <td>8.16</td>\n",
       "      <td>2017</td>\n",
       "    </tr>\n",
       "    <tr>\n",
       "      <th>33</th>\n",
       "      <td>MobileNet</td>\n",
       "      <td>4,231,976</td>\n",
       "      <td>579.80</td>\n",
       "      <td>26.61</td>\n",
       "      <td>8.95</td>\n",
       "      <td>2017</td>\n",
       "    </tr>\n",
       "    <tr>\n",
       "      <th>71</th>\n",
       "      <td>MuffNet_1.5</td>\n",
       "      <td>3.4M</td>\n",
       "      <td>300.00</td>\n",
       "      <td>26.90</td>\n",
       "      <td>?</td>\n",
       "      <td>2019</td>\n",
       "    </tr>\n",
       "    <tr>\n",
       "      <th>46</th>\n",
       "      <td>MobileNetV2</td>\n",
       "      <td>3,504,960</td>\n",
       "      <td>329.36</td>\n",
       "      <td>26.97</td>\n",
       "      <td>8.87</td>\n",
       "      <td>2018</td>\n",
       "    </tr>\n",
       "    <tr>\n",
       "      <th>74</th>\n",
       "      <td>MobileNetV2-Bin-5</td>\n",
       "      <td>3,504,960</td>\n",
       "      <td>329.36</td>\n",
       "      <td>27.50</td>\n",
       "      <td>?</td>\n",
       "      <td>2019</td>\n",
       "    </tr>\n",
       "    <tr>\n",
       "      <th>42</th>\n",
       "      <td>2.0-SqNxt-23v5</td>\n",
       "      <td>3,366,344</td>\n",
       "      <td>897.60</td>\n",
       "      <td>29.63</td>\n",
       "      <td>10.66</td>\n",
       "      <td>2018</td>\n",
       "    </tr>\n",
       "    <tr>\n",
       "      <th>70</th>\n",
       "      <td>MuffNet_1.0</td>\n",
       "      <td>2.3M</td>\n",
       "      <td>146.00</td>\n",
       "      <td>30.10</td>\n",
       "      <td>?</td>\n",
       "      <td>2019</td>\n",
       "    </tr>\n",
       "    <tr>\n",
       "      <th>43</th>\n",
       "      <td>ShuffleNetV2</td>\n",
       "      <td>2,278,604</td>\n",
       "      <td>149.72</td>\n",
       "      <td>31.44</td>\n",
       "      <td>11.63</td>\n",
       "      <td>2018</td>\n",
       "    </tr>\n",
       "  </tbody>\n",
       "</table>\n",
       "</div>"
      ],
      "text/plain": [
       "                 Model Number of parameters  FLOPS (millions)  Top-1 Error  \\\n",
       "78           DA-NAS-C                     ?            467.00        23.80   \n",
       "60    EfficientNet-B0             5,288,548            414.31        24.77   \n",
       "34    NASNet-A 4@1056             5,289,978            584.90        25.68   \n",
       "33          MobileNet             4,231,976            579.80        26.61   \n",
       "71        MuffNet_1.5                  3.4M            300.00        26.90   \n",
       "46        MobileNetV2             3,504,960            329.36        26.97   \n",
       "74  MobileNetV2-Bin-5             3,504,960            329.36        27.50   \n",
       "42     2.0-SqNxt-23v5             3,366,344            897.60        29.63   \n",
       "70        MuffNet_1.0                  2.3M            146.00        30.10   \n",
       "43       ShuffleNetV2             2,278,604            149.72        31.44   \n",
       "\n",
       "   Top-5 Error  Year  \n",
       "78           ?  2020  \n",
       "60        7.52  2019  \n",
       "34        8.16  2017  \n",
       "33        8.95  2017  \n",
       "71           ?  2019  \n",
       "46        8.87  2018  \n",
       "74           ?  2019  \n",
       "42       10.66  2018  \n",
       "70           ?  2019  \n",
       "43       11.63  2018  "
      ]
     },
     "execution_count": 91,
     "metadata": {},
     "output_type": "execute_result"
    }
   ],
   "source": [
    "final_data.head(10)"
   ]
  },
  {
   "cell_type": "code",
   "execution_count": 84,
   "metadata": {},
   "outputs": [],
   "source": [
    "final_data.to_csv(\"parsed_classification_models.csv\")"
   ]
  },
  {
   "cell_type": "code",
   "execution_count": null,
   "metadata": {},
   "outputs": [],
   "source": []
  }
 ],
 "metadata": {
  "kernelspec": {
   "display_name": "Python 3",
   "language": "python",
   "name": "python3"
  },
  "language_info": {
   "codemirror_mode": {
    "name": "ipython",
    "version": 3
   },
   "file_extension": ".py",
   "mimetype": "text/x-python",
   "name": "python",
   "nbconvert_exporter": "python",
   "pygments_lexer": "ipython3",
   "version": "3.8.5"
  }
 },
 "nbformat": 4,
 "nbformat_minor": 4
}
